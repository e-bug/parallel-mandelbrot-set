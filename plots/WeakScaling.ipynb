{
 "cells": [
  {
   "cell_type": "code",
   "execution_count": 4,
   "metadata": {
    "collapsed": false
   },
   "outputs": [],
   "source": [
    "import plotting"
   ]
  },
  {
   "cell_type": "code",
   "execution_count": 2,
   "metadata": {
    "collapsed": true
   },
   "outputs": [],
   "source": [
    "import numpy as np\n",
    "import matplotlib.pyplot as plt\n",
    "from matplotlib.ticker import ScalarFormatter, FormatStrFormatter\n",
    "from matplotlib2tikz import save as tikz_save\n",
    "\n",
    "%matplotlib inline"
   ]
  },
  {
   "cell_type": "markdown",
   "metadata": {
    "collapsed": true
   },
   "source": [
    "## Problem size solved in the same amount of time by the different implementations"
   ]
  },
  {
   "cell_type": "code",
   "execution_count": 3,
   "metadata": {
    "collapsed": true
   },
   "outputs": [],
   "source": [
    "machines = ['sequential', '1 processor - 1 GPU', '2 processors - 2 GPUs', '2 processors - 4 GPUs']\n",
    "values = [2600, 1800000, 3500000, 10000000]\n",
    "values_lists = [values]"
   ]
  },
  {
   "cell_type": "code",
   "execution_count": 5,
   "metadata": {
    "collapsed": true
   },
   "outputs": [],
   "source": [
    "xlabel = 'Machine'\n",
    "ylabel = 'max_iteration'\n",
    "filename = 'weak.svg'"
   ]
  },
  {
   "cell_type": "code",
   "execution_count": 6,
   "metadata": {
    "collapsed": false
   },
   "outputs": [
    {
     "data": {
      "image/png": "[encoded data removed]",
      "text/plain": [
       "<matplotlib.figure.Figure at 0x7fc2c819c630>"
      ]
     },
     "metadata": {},
     "output_type": "display_data"
    }
   ],
   "source": [
    "plt.figure(figsize=(12,8))\n",
    "plt.grid()\n",
    "\n",
    "# colormap\n",
    "n_labels = 1\n",
    "bar_colors = []\n",
    "bar_colors = [plotting.colorblind_palette_dict[plotting.palette_order2[i%plotting.n_colors]] \n",
    "              for i in range(n_labels)]\n",
    "\n",
    "# plot bars -- label by label\n",
    "width = 0.35\n",
    "n_machines = len(machines)\n",
    "x_values = np.arange(1, n_machines+1)\n",
    "max_value = max(values)\n",
    "for i in range(1):\n",
    "    plt.bar(x_values+i*width, values, width, align='center', color=bar_colors[i])\n",
    "    for idx, v in enumerate(sorted(values_lists[i], reverse=False)):\n",
    "        plt.text(idx+1+i*width, 1.1*v, str(v), fontsize='large', horizontalalignment='center')\n",
    "\n",
    "# x-axis\n",
    "plt.xticks(x_values+(n_labels-1)*width/2, machines, fontsize='large')\n",
    "plt.xlabel(xlabel, fontsize='x-large')\n",
    "\n",
    "# y-axis\n",
    "plt.yscale('log')\n",
    "plt.yticks(fontsize='large')\n",
    "plt.ylabel(ylabel, fontsize='x-large')\n",
    "\n",
    "# ticks formatting\n",
    "ax = plt.gca()\n",
    "# ax.xaxis.set_major_formatter(FormatStrFormatter('%.0f'))\n",
    "# ax.xaxis.set_major_formatter(ScalarFormatter())\n",
    "# ax.yaxis.set_major_formatter(ScalarFormatter())\n",
    "\n",
    "plt.savefig(filename)\n",
    "plt.show()"
   ]
  }
 ],
 "metadata": {
  "kernelspec": {
   "display_name": "Python 3",
   "language": "python",
   "name": "python3"
  },
  "language_info": {
   "codemirror_mode": {
    "name": "ipython",
    "version": 3
   },
   "file_extension": ".py",
   "mimetype": "text/x-python",
   "name": "python",
   "nbconvert_exporter": "python",
   "pygments_lexer": "ipython3",
   "version": "3.6.0"
  }
 },
 "nbformat": 4,
 "nbformat_minor": 2
}
